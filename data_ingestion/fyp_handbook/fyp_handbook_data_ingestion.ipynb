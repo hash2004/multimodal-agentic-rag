{
 "cells": [
  {
   "cell_type": "code",
   "execution_count": 1,
   "id": "2c7034f9",
   "metadata": {},
   "outputs": [
    {
     "name": "stderr",
     "output_type": "stream",
     "text": [
      "/home/hashim/miniconda3/envs/mar/lib/python3.12/site-packages/tqdm/auto.py:21: TqdmWarning: IProgress not found. Please update jupyter and ipywidgets. See https://ipywidgets.readthedocs.io/en/stable/user_install.html\n",
      "  from .autonotebook import tqdm as notebook_tqdm\n"
     ]
    }
   ],
   "source": [
    "import base64\n",
    "import copy \n",
    "import json\n",
    "import os \n",
    "import tempfile\n",
    "import time\n",
    "import fitz  \n",
    "from fpdf import FPDF\n",
    "from IPython.display import Markdown, display\n",
    "from langchain_community.document_loaders import UnstructuredPDFLoader\n",
    "from langchain_core.messages import HumanMessage\n",
    "from langchain_experimental.text_splitter import SemanticChunker\n",
    "from langchain_google_genai import ChatGoogleGenerativeAI\n",
    "from langchain_openai import OpenAIEmbeddings\n",
    "from langchain_qdrant import FastEmbedSparse, QdrantVectorStore, RetrievalMode\n",
    "from langchain_text_splitters import RecursiveCharacterTextSplitter\n",
    "from mistralai import Mistral, DocumentURLChunk, ImageURLChunk, TextChunk\n",
    "from mistralai.models import OCRResponse\n",
    "from pathlib import Path\n",
    "from pydantic import BaseModel\n",
    "from qdrant_client import QdrantClient, models\n",
    "from qdrant_client.http.models import Distance, SparseVectorParams, VectorParams\n",
    "from semantic_router.encoders import OpenAIEncoder\n",
    "import concurrent.futures\n"
   ]
  },
  {
   "cell_type": "code",
   "execution_count": null,
   "id": "41a8fa4f",
   "metadata": {},
   "outputs": [],
   "source": []
  }
 ],
 "metadata": {
  "kernelspec": {
   "display_name": "mar",
   "language": "python",
   "name": "python3"
  },
  "language_info": {
   "codemirror_mode": {
    "name": "ipython",
    "version": 3
   },
   "file_extension": ".py",
   "mimetype": "text/x-python",
   "name": "python",
   "nbconvert_exporter": "python",
   "pygments_lexer": "ipython3",
   "version": "3.12.9"
  }
 },
 "nbformat": 4,
 "nbformat_minor": 5
}
